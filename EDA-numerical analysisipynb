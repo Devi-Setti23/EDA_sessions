{
 "cells": [
  {
   "cell_type": "markdown",
   "id": "3ad9f704-2715-4440-853b-7a0ab5ac8deb",
   "metadata": {},
   "source": [
    "# numerical analysis"
   ]
  },
  {
   "cell_type": "code",
   "execution_count": 2,
   "id": "bfd50807-ce57-4a03-adb7-b3d2ebc77a1f",
   "metadata": {},
   "outputs": [],
   "source": [
    "import pandas as pd\n",
    "import numpy as np\n",
    "import matplotlib.pyplot as plt\n",
    "import seaborn as sns"
   ]
  },
  {
   "cell_type": "code",
   "execution_count": 3,
   "id": "637312c3-18ae-4210-862a-58edd40c0377",
   "metadata": {},
   "outputs": [
    {
     "data": {
      "text/html": [
       "<div>\n",
       "<style scoped>\n",
       "    .dataframe tbody tr th:only-of-type {\n",
       "        vertical-align: middle;\n",
       "    }\n",
       "\n",
       "    .dataframe tbody tr th {\n",
       "        vertical-align: top;\n",
       "    }\n",
       "\n",
       "    .dataframe thead th {\n",
       "        text-align: right;\n",
       "    }\n",
       "</style>\n",
       "<table border=\"1\" class=\"dataframe\">\n",
       "  <thead>\n",
       "    <tr style=\"text-align: right;\">\n",
       "      <th></th>\n",
       "      <th>case_id</th>\n",
       "      <th>continent</th>\n",
       "      <th>education_of_employee</th>\n",
       "      <th>has_job_experience</th>\n",
       "      <th>requires_job_training</th>\n",
       "      <th>no_of_employees</th>\n",
       "      <th>yr_of_estab</th>\n",
       "      <th>region_of_employment</th>\n",
       "      <th>prevailing_wage</th>\n",
       "      <th>unit_of_wage</th>\n",
       "      <th>full_time_position</th>\n",
       "      <th>case_status</th>\n",
       "    </tr>\n",
       "  </thead>\n",
       "  <tbody>\n",
       "    <tr>\n",
       "      <th>0</th>\n",
       "      <td>EZYV01</td>\n",
       "      <td>Asia</td>\n",
       "      <td>High School</td>\n",
       "      <td>N</td>\n",
       "      <td>N</td>\n",
       "      <td>14513</td>\n",
       "      <td>2007</td>\n",
       "      <td>West</td>\n",
       "      <td>592.2029</td>\n",
       "      <td>Hour</td>\n",
       "      <td>Y</td>\n",
       "      <td>Denied</td>\n",
       "    </tr>\n",
       "    <tr>\n",
       "      <th>1</th>\n",
       "      <td>EZYV02</td>\n",
       "      <td>Asia</td>\n",
       "      <td>Master's</td>\n",
       "      <td>Y</td>\n",
       "      <td>N</td>\n",
       "      <td>2412</td>\n",
       "      <td>2002</td>\n",
       "      <td>Northeast</td>\n",
       "      <td>83425.6500</td>\n",
       "      <td>Year</td>\n",
       "      <td>Y</td>\n",
       "      <td>Certified</td>\n",
       "    </tr>\n",
       "    <tr>\n",
       "      <th>2</th>\n",
       "      <td>EZYV03</td>\n",
       "      <td>Asia</td>\n",
       "      <td>Bachelor's</td>\n",
       "      <td>N</td>\n",
       "      <td>Y</td>\n",
       "      <td>44444</td>\n",
       "      <td>2008</td>\n",
       "      <td>West</td>\n",
       "      <td>122996.8600</td>\n",
       "      <td>Year</td>\n",
       "      <td>Y</td>\n",
       "      <td>Denied</td>\n",
       "    </tr>\n",
       "    <tr>\n",
       "      <th>3</th>\n",
       "      <td>EZYV04</td>\n",
       "      <td>Asia</td>\n",
       "      <td>Bachelor's</td>\n",
       "      <td>N</td>\n",
       "      <td>N</td>\n",
       "      <td>98</td>\n",
       "      <td>1897</td>\n",
       "      <td>West</td>\n",
       "      <td>83434.0300</td>\n",
       "      <td>Year</td>\n",
       "      <td>Y</td>\n",
       "      <td>Denied</td>\n",
       "    </tr>\n",
       "    <tr>\n",
       "      <th>4</th>\n",
       "      <td>EZYV05</td>\n",
       "      <td>Africa</td>\n",
       "      <td>Master's</td>\n",
       "      <td>Y</td>\n",
       "      <td>N</td>\n",
       "      <td>1082</td>\n",
       "      <td>2005</td>\n",
       "      <td>South</td>\n",
       "      <td>149907.3900</td>\n",
       "      <td>Year</td>\n",
       "      <td>Y</td>\n",
       "      <td>Certified</td>\n",
       "    </tr>\n",
       "    <tr>\n",
       "      <th>...</th>\n",
       "      <td>...</td>\n",
       "      <td>...</td>\n",
       "      <td>...</td>\n",
       "      <td>...</td>\n",
       "      <td>...</td>\n",
       "      <td>...</td>\n",
       "      <td>...</td>\n",
       "      <td>...</td>\n",
       "      <td>...</td>\n",
       "      <td>...</td>\n",
       "      <td>...</td>\n",
       "      <td>...</td>\n",
       "    </tr>\n",
       "    <tr>\n",
       "      <th>25475</th>\n",
       "      <td>EZYV25476</td>\n",
       "      <td>Asia</td>\n",
       "      <td>Bachelor's</td>\n",
       "      <td>Y</td>\n",
       "      <td>Y</td>\n",
       "      <td>2601</td>\n",
       "      <td>2008</td>\n",
       "      <td>South</td>\n",
       "      <td>77092.5700</td>\n",
       "      <td>Year</td>\n",
       "      <td>Y</td>\n",
       "      <td>Certified</td>\n",
       "    </tr>\n",
       "    <tr>\n",
       "      <th>25476</th>\n",
       "      <td>EZYV25477</td>\n",
       "      <td>Asia</td>\n",
       "      <td>High School</td>\n",
       "      <td>Y</td>\n",
       "      <td>N</td>\n",
       "      <td>3274</td>\n",
       "      <td>2006</td>\n",
       "      <td>Northeast</td>\n",
       "      <td>279174.7900</td>\n",
       "      <td>Year</td>\n",
       "      <td>Y</td>\n",
       "      <td>Certified</td>\n",
       "    </tr>\n",
       "    <tr>\n",
       "      <th>25477</th>\n",
       "      <td>EZYV25478</td>\n",
       "      <td>Asia</td>\n",
       "      <td>Master's</td>\n",
       "      <td>Y</td>\n",
       "      <td>N</td>\n",
       "      <td>1121</td>\n",
       "      <td>1910</td>\n",
       "      <td>South</td>\n",
       "      <td>146298.8500</td>\n",
       "      <td>Year</td>\n",
       "      <td>N</td>\n",
       "      <td>Certified</td>\n",
       "    </tr>\n",
       "    <tr>\n",
       "      <th>25478</th>\n",
       "      <td>EZYV25479</td>\n",
       "      <td>Asia</td>\n",
       "      <td>Master's</td>\n",
       "      <td>Y</td>\n",
       "      <td>Y</td>\n",
       "      <td>1918</td>\n",
       "      <td>1887</td>\n",
       "      <td>West</td>\n",
       "      <td>86154.7700</td>\n",
       "      <td>Year</td>\n",
       "      <td>Y</td>\n",
       "      <td>Certified</td>\n",
       "    </tr>\n",
       "    <tr>\n",
       "      <th>25479</th>\n",
       "      <td>EZYV25480</td>\n",
       "      <td>Asia</td>\n",
       "      <td>Bachelor's</td>\n",
       "      <td>Y</td>\n",
       "      <td>N</td>\n",
       "      <td>3195</td>\n",
       "      <td>1960</td>\n",
       "      <td>Midwest</td>\n",
       "      <td>70876.9100</td>\n",
       "      <td>Year</td>\n",
       "      <td>Y</td>\n",
       "      <td>Certified</td>\n",
       "    </tr>\n",
       "  </tbody>\n",
       "</table>\n",
       "<p>25480 rows × 12 columns</p>\n",
       "</div>"
      ],
      "text/plain": [
       "         case_id continent education_of_employee has_job_experience  \\\n",
       "0         EZYV01      Asia           High School                  N   \n",
       "1         EZYV02      Asia              Master's                  Y   \n",
       "2         EZYV03      Asia            Bachelor's                  N   \n",
       "3         EZYV04      Asia            Bachelor's                  N   \n",
       "4         EZYV05    Africa              Master's                  Y   \n",
       "...          ...       ...                   ...                ...   \n",
       "25475  EZYV25476      Asia            Bachelor's                  Y   \n",
       "25476  EZYV25477      Asia           High School                  Y   \n",
       "25477  EZYV25478      Asia              Master's                  Y   \n",
       "25478  EZYV25479      Asia              Master's                  Y   \n",
       "25479  EZYV25480      Asia            Bachelor's                  Y   \n",
       "\n",
       "      requires_job_training  no_of_employees  yr_of_estab  \\\n",
       "0                         N            14513         2007   \n",
       "1                         N             2412         2002   \n",
       "2                         Y            44444         2008   \n",
       "3                         N               98         1897   \n",
       "4                         N             1082         2005   \n",
       "...                     ...              ...          ...   \n",
       "25475                     Y             2601         2008   \n",
       "25476                     N             3274         2006   \n",
       "25477                     N             1121         1910   \n",
       "25478                     Y             1918         1887   \n",
       "25479                     N             3195         1960   \n",
       "\n",
       "      region_of_employment  prevailing_wage unit_of_wage full_time_position  \\\n",
       "0                     West         592.2029         Hour                  Y   \n",
       "1                Northeast       83425.6500         Year                  Y   \n",
       "2                     West      122996.8600         Year                  Y   \n",
       "3                     West       83434.0300         Year                  Y   \n",
       "4                    South      149907.3900         Year                  Y   \n",
       "...                    ...              ...          ...                ...   \n",
       "25475                South       77092.5700         Year                  Y   \n",
       "25476            Northeast      279174.7900         Year                  Y   \n",
       "25477                South      146298.8500         Year                  N   \n",
       "25478                 West       86154.7700         Year                  Y   \n",
       "25479              Midwest       70876.9100         Year                  Y   \n",
       "\n",
       "      case_status  \n",
       "0          Denied  \n",
       "1       Certified  \n",
       "2          Denied  \n",
       "3          Denied  \n",
       "4       Certified  \n",
       "...           ...  \n",
       "25475   Certified  \n",
       "25476   Certified  \n",
       "25477   Certified  \n",
       "25478   Certified  \n",
       "25479   Certified  \n",
       "\n",
       "[25480 rows x 12 columns]"
      ]
     },
     "execution_count": 3,
     "metadata": {},
     "output_type": "execute_result"
    }
   ],
   "source": [
    "import pandas as pd\n",
    "path=r\"C:\\Users\\devis\\OneDrive\\Documents\\data science\\data files\\Visadataset.csv\"\n",
    "visa_df=pd.read_csv(path)\n",
    "visa_df"
   ]
  },
  {
   "cell_type": "code",
   "execution_count": 8,
   "id": "e2fb4111-d84b-46b2-af43-0818ab91e99c",
   "metadata": {},
   "outputs": [
    {
     "data": {
      "text/html": [
       "<div>\n",
       "<style scoped>\n",
       "    .dataframe tbody tr th:only-of-type {\n",
       "        vertical-align: middle;\n",
       "    }\n",
       "\n",
       "    .dataframe tbody tr th {\n",
       "        vertical-align: top;\n",
       "    }\n",
       "\n",
       "    .dataframe thead th {\n",
       "        text-align: right;\n",
       "    }\n",
       "</style>\n",
       "<table border=\"1\" class=\"dataframe\">\n",
       "  <thead>\n",
       "    <tr style=\"text-align: right;\">\n",
       "      <th></th>\n",
       "      <th>case_id</th>\n",
       "      <th>continent</th>\n",
       "      <th>education_of_employee</th>\n",
       "      <th>has_job_experience</th>\n",
       "      <th>requires_job_training</th>\n",
       "      <th>no_of_employees</th>\n",
       "      <th>yr_of_estab</th>\n",
       "      <th>region_of_employment</th>\n",
       "      <th>prevailing_wage</th>\n",
       "      <th>unit_of_wage</th>\n",
       "      <th>full_time_position</th>\n",
       "      <th>case_status</th>\n",
       "    </tr>\n",
       "  </thead>\n",
       "  <tbody>\n",
       "    <tr>\n",
       "      <th>0</th>\n",
       "      <td>EZYV01</td>\n",
       "      <td>Asia</td>\n",
       "      <td>High School</td>\n",
       "      <td>N</td>\n",
       "      <td>N</td>\n",
       "      <td>14513</td>\n",
       "      <td>2007</td>\n",
       "      <td>West</td>\n",
       "      <td>592.2029</td>\n",
       "      <td>Hour</td>\n",
       "      <td>Y</td>\n",
       "      <td>Denied</td>\n",
       "    </tr>\n",
       "    <tr>\n",
       "      <th>1</th>\n",
       "      <td>EZYV02</td>\n",
       "      <td>Asia</td>\n",
       "      <td>Master's</td>\n",
       "      <td>Y</td>\n",
       "      <td>N</td>\n",
       "      <td>2412</td>\n",
       "      <td>2002</td>\n",
       "      <td>Northeast</td>\n",
       "      <td>83425.6500</td>\n",
       "      <td>Year</td>\n",
       "      <td>Y</td>\n",
       "      <td>Certified</td>\n",
       "    </tr>\n",
       "    <tr>\n",
       "      <th>2</th>\n",
       "      <td>EZYV03</td>\n",
       "      <td>Asia</td>\n",
       "      <td>Bachelor's</td>\n",
       "      <td>N</td>\n",
       "      <td>Y</td>\n",
       "      <td>44444</td>\n",
       "      <td>2008</td>\n",
       "      <td>West</td>\n",
       "      <td>122996.8600</td>\n",
       "      <td>Year</td>\n",
       "      <td>Y</td>\n",
       "      <td>Denied</td>\n",
       "    </tr>\n",
       "    <tr>\n",
       "      <th>3</th>\n",
       "      <td>EZYV04</td>\n",
       "      <td>Asia</td>\n",
       "      <td>Bachelor's</td>\n",
       "      <td>N</td>\n",
       "      <td>N</td>\n",
       "      <td>98</td>\n",
       "      <td>1897</td>\n",
       "      <td>West</td>\n",
       "      <td>83434.0300</td>\n",
       "      <td>Year</td>\n",
       "      <td>Y</td>\n",
       "      <td>Denied</td>\n",
       "    </tr>\n",
       "    <tr>\n",
       "      <th>4</th>\n",
       "      <td>EZYV05</td>\n",
       "      <td>Africa</td>\n",
       "      <td>Master's</td>\n",
       "      <td>Y</td>\n",
       "      <td>N</td>\n",
       "      <td>1082</td>\n",
       "      <td>2005</td>\n",
       "      <td>South</td>\n",
       "      <td>149907.3900</td>\n",
       "      <td>Year</td>\n",
       "      <td>Y</td>\n",
       "      <td>Certified</td>\n",
       "    </tr>\n",
       "  </tbody>\n",
       "</table>\n",
       "</div>"
      ],
      "text/plain": [
       "  case_id continent education_of_employee has_job_experience  \\\n",
       "0  EZYV01      Asia           High School                  N   \n",
       "1  EZYV02      Asia              Master's                  Y   \n",
       "2  EZYV03      Asia            Bachelor's                  N   \n",
       "3  EZYV04      Asia            Bachelor's                  N   \n",
       "4  EZYV05    Africa              Master's                  Y   \n",
       "\n",
       "  requires_job_training  no_of_employees  yr_of_estab region_of_employment  \\\n",
       "0                     N            14513         2007                 West   \n",
       "1                     N             2412         2002            Northeast   \n",
       "2                     Y            44444         2008                 West   \n",
       "3                     N               98         1897                 West   \n",
       "4                     N             1082         2005                South   \n",
       "\n",
       "   prevailing_wage unit_of_wage full_time_position case_status  \n",
       "0         592.2029         Hour                  Y      Denied  \n",
       "1       83425.6500         Year                  Y   Certified  \n",
       "2      122996.8600         Year                  Y      Denied  \n",
       "3       83434.0300         Year                  Y      Denied  \n",
       "4      149907.3900         Year                  Y   Certified  "
      ]
     },
     "execution_count": 8,
     "metadata": {},
     "output_type": "execute_result"
    }
   ],
   "source": [
    "visa_df.head()"
   ]
  },
  {
   "cell_type": "code",
   "execution_count": 9,
   "id": "bccfa5ca-042c-45f2-a94d-649963e04644",
   "metadata": {},
   "outputs": [
    {
     "data": {
      "text/plain": [
       "Index(['case_id', 'continent', 'education_of_employee', 'has_job_experience',\n",
       "       'requires_job_training', 'no_of_employees', 'yr_of_estab',\n",
       "       'region_of_employment', 'prevailing_wage', 'unit_of_wage',\n",
       "       'full_time_position', 'case_status'],\n",
       "      dtype='object')"
      ]
     },
     "execution_count": 9,
     "metadata": {},
     "output_type": "execute_result"
    }
   ],
   "source": [
    "visa_df.columns"
   ]
  },
  {
   "cell_type": "code",
   "execution_count": 4,
   "id": "f3b1862f-60bd-4fe8-942c-7b895ebeaf4c",
   "metadata": {},
   "outputs": [
    {
     "data": {
      "text/plain": [
       "case_id                   object\n",
       "continent                 object\n",
       "education_of_employee     object\n",
       "has_job_experience        object\n",
       "requires_job_training     object\n",
       "no_of_employees            int64\n",
       "yr_of_estab                int64\n",
       "region_of_employment      object\n",
       "prevailing_wage          float64\n",
       "unit_of_wage              object\n",
       "full_time_position        object\n",
       "case_status               object\n",
       "dtype: object"
      ]
     },
     "execution_count": 4,
     "metadata": {},
     "output_type": "execute_result"
    }
   ],
   "source": [
    "data_types=visa_df.dtypes\n",
    "data_types"
   ]
  },
  {
   "cell_type": "code",
   "execution_count": 5,
   "id": "1779d2b4-87a7-4bdb-9731-8bfd4d6a13f4",
   "metadata": {},
   "outputs": [],
   "source": [
    "cat_columns=[i for i,j in data_types.items() if j=='object']\n",
    "num_columns=[i for i,j in data_types.items() if j!='object']"
   ]
  },
  {
   "cell_type": "code",
   "execution_count": 7,
   "id": "ef7e1ca1-65eb-421c-b136-f07a15d22446",
   "metadata": {},
   "outputs": [
    {
     "data": {
      "text/plain": [
       "Index(['no_of_employees', 'yr_of_estab', 'prevailing_wage'], dtype='object')"
      ]
     },
     "execution_count": 7,
     "metadata": {},
     "output_type": "execute_result"
    }
   ],
   "source": [
    "cat_columns=visa_df.select_dtypes(include='object').columns\n",
    "num_columns=visa_df.select_dtypes(exclude='object').columns\n",
    "num_columns"
   ]
  },
  {
   "cell_type": "code",
   "execution_count": null,
   "id": "bd0be114-85e0-4606-9e27-4a8729f1384f",
   "metadata": {},
   "outputs": [],
   "source": [
    "#visa_df.loc[:,'prevailing_wage']\n",
    "#visa_df.iloc[:,[8]]\n",
    "#visa_df['prevailing_wage']\n",
    "#visa_df[['prevailing_wage']]"
   ]
  },
  {
   "cell_type": "code",
   "execution_count": 11,
   "id": "c3929f67-c89a-4b7f-a368-8f3bd6644b12",
   "metadata": {},
   "outputs": [
    {
     "data": {
      "text/html": [
       "<div>\n",
       "<style scoped>\n",
       "    .dataframe tbody tr th:only-of-type {\n",
       "        vertical-align: middle;\n",
       "    }\n",
       "\n",
       "    .dataframe tbody tr th {\n",
       "        vertical-align: top;\n",
       "    }\n",
       "\n",
       "    .dataframe thead th {\n",
       "        text-align: right;\n",
       "    }\n",
       "</style>\n",
       "<table border=\"1\" class=\"dataframe\">\n",
       "  <thead>\n",
       "    <tr style=\"text-align: right;\">\n",
       "      <th></th>\n",
       "      <th>prevailing_wage</th>\n",
       "    </tr>\n",
       "  </thead>\n",
       "  <tbody>\n",
       "    <tr>\n",
       "      <th>0</th>\n",
       "      <td>592.2029</td>\n",
       "    </tr>\n",
       "    <tr>\n",
       "      <th>1</th>\n",
       "      <td>83425.6500</td>\n",
       "    </tr>\n",
       "    <tr>\n",
       "      <th>2</th>\n",
       "      <td>122996.8600</td>\n",
       "    </tr>\n",
       "    <tr>\n",
       "      <th>3</th>\n",
       "      <td>83434.0300</td>\n",
       "    </tr>\n",
       "    <tr>\n",
       "      <th>4</th>\n",
       "      <td>149907.3900</td>\n",
       "    </tr>\n",
       "    <tr>\n",
       "      <th>...</th>\n",
       "      <td>...</td>\n",
       "    </tr>\n",
       "    <tr>\n",
       "      <th>25475</th>\n",
       "      <td>77092.5700</td>\n",
       "    </tr>\n",
       "    <tr>\n",
       "      <th>25476</th>\n",
       "      <td>279174.7900</td>\n",
       "    </tr>\n",
       "    <tr>\n",
       "      <th>25477</th>\n",
       "      <td>146298.8500</td>\n",
       "    </tr>\n",
       "    <tr>\n",
       "      <th>25478</th>\n",
       "      <td>86154.7700</td>\n",
       "    </tr>\n",
       "    <tr>\n",
       "      <th>25479</th>\n",
       "      <td>70876.9100</td>\n",
       "    </tr>\n",
       "  </tbody>\n",
       "</table>\n",
       "<p>25480 rows × 1 columns</p>\n",
       "</div>"
      ],
      "text/plain": [
       "       prevailing_wage\n",
       "0             592.2029\n",
       "1           83425.6500\n",
       "2          122996.8600\n",
       "3           83434.0300\n",
       "4          149907.3900\n",
       "...                ...\n",
       "25475       77092.5700\n",
       "25476      279174.7900\n",
       "25477      146298.8500\n",
       "25478       86154.7700\n",
       "25479       70876.9100\n",
       "\n",
       "[25480 rows x 1 columns]"
      ]
     },
     "execution_count": 11,
     "metadata": {},
     "output_type": "execute_result"
    }
   ],
   "source": [
    "visa_df[['prevailing_wage']]"
   ]
  },
  {
   "cell_type": "markdown",
   "id": "ccff110e-ed37-4420-80ee-f9470bd72ea3",
   "metadata": {},
   "source": [
    "- len\n",
    "- min\n",
    "- max\n",
    "- average(mean)\n",
    "- standard deviation(std)\n",
    "- median\n",
    "- 25p\n",
    "- 50p\n",
    "- 75p"
   ]
  },
  {
   "cell_type": "markdown",
   "id": "7c46eb4e-4bdf-40c6-a69c-c4a834ede148",
   "metadata": {},
   "source": [
    "# length\n"
   ]
  },
  {
   "cell_type": "code",
   "execution_count": 12,
   "id": "7f288dcc-6e9e-4d70-934c-a0be1b658c2a",
   "metadata": {},
   "outputs": [
    {
     "data": {
      "text/plain": [
       "25480"
      ]
     },
     "execution_count": 12,
     "metadata": {},
     "output_type": "execute_result"
    }
   ],
   "source": [
    "len(visa_df['prevailing_wage'])"
   ]
  },
  {
   "cell_type": "markdown",
   "id": "40aca432-379d-4d82-b23a-76e021598d0e",
   "metadata": {},
   "source": [
    "# min"
   ]
  },
  {
   "cell_type": "code",
   "execution_count": 13,
   "id": "1d6bdc40-adb3-4b01-8c1c-5eef6a013fe7",
   "metadata": {},
   "outputs": [
    {
     "data": {
      "text/plain": [
       "2.1367"
      ]
     },
     "execution_count": 13,
     "metadata": {},
     "output_type": "execute_result"
    }
   ],
   "source": [
    "min(visa_df['prevailing_wage'])"
   ]
  },
  {
   "cell_type": "code",
   "execution_count": 14,
   "id": "bb0518ae-6c91-48d1-a96b-d8ee20505470",
   "metadata": {},
   "outputs": [
    {
     "data": {
      "text/plain": [
       "319210.27"
      ]
     },
     "execution_count": 14,
     "metadata": {},
     "output_type": "execute_result"
    }
   ],
   "source": [
    "max(visa_df['prevailing_wage'])"
   ]
  },
  {
   "cell_type": "code",
   "execution_count": 19,
   "id": "50a5bfd0-5a4a-4ef8-9994-c2df3a969d98",
   "metadata": {},
   "outputs": [
    {
     "data": {
      "text/plain": [
       "Index(['case_id', 'continent', 'education_of_employee', 'has_job_experience',\n",
       "       'requires_job_training', 'no_of_employees', 'yr_of_estab',\n",
       "       'region_of_employment', 'prevailing_wage', 'unit_of_wage',\n",
       "       'full_time_position', 'case_status'],\n",
       "      dtype='object')"
      ]
     },
     "execution_count": 19,
     "metadata": {},
     "output_type": "execute_result"
    }
   ],
   "source": [
    "df1=visa_df.columns\n",
    "df1"
   ]
  },
  {
   "cell_type": "code",
   "execution_count": 16,
   "id": "a3bb6bbe-33e2-44df-9733-9529d868ba78",
   "metadata": {},
   "outputs": [
    {
     "name": "stdout",
     "output_type": "stream",
     "text": [
      "the no.of wage samples are: 25480\n",
      "the min  wage samples are: 2.1367\n",
      "the max wage samples are: 319210.27\n"
     ]
    }
   ],
   "source": [
    "count=len(visa_df['prevailing_wage'])\n",
    "min_wage=min(visa_df['prevailing_wage'])\n",
    "max_wage=max(visa_df['prevailing_wage'])\n",
    "print('the no.of wage samples are:',count)\n",
    "print('the min  wage samples are:',min_wage)\n",
    "print('the max wage samples are:',max_wage)"
   ]
  },
  {
   "cell_type": "code",
   "execution_count": 28,
   "id": "e026c98a-7589-477c-95bc-58c6690f3c1e",
   "metadata": {},
   "outputs": [
    {
     "data": {
      "text/plain": [
       "prevailing_wage    74455.814592\n",
       "dtype: float64"
      ]
     },
     "execution_count": 28,
     "metadata": {},
     "output_type": "execute_result"
    }
   ],
   "source": [
    "visa_df[['prevailing_wage']].mean()\n"
   ]
  },
  {
   "cell_type": "code",
   "execution_count": null,
   "id": "c3cf7100-1e79-481c-9d35-974b48c63ac8",
   "metadata": {},
   "outputs": [],
   "source": [
    "visa_df[['prevailing_wage']].median()"
   ]
  },
  {
   "cell_type": "code",
   "execution_count": 26,
   "id": "79fc0a0c-730c-49e3-8a7c-bf6a20017a12",
   "metadata": {},
   "outputs": [
    {
     "name": "stdout",
     "output_type": "stream",
     "text": [
      "the average mean wage is: prevailing_wage    74455.81\n",
      "dtype: float64\n",
      "the average median  wage is: prevailing_wage    70308.21\n",
      "dtype: float64\n"
     ]
    }
   ],
   "source": [
    "mean_wage=round(visa_df[['prevailing_wage']].mean(),2)\n",
    "median_wage=round(visa_df[['prevailing_wage']].median(),2)\n",
    "print('the average mean wage is:',mean_wage)\n",
    "print('the average median  wage is:',median_wage)"
   ]
  },
  {
   "cell_type": "markdown",
   "id": "779b62bc-d11b-4fb3-b1b6-b477180a4556",
   "metadata": {},
   "source": [
    "- mode is not a suitable metric for numerical analysis\n",
    "- different observations can have same values"
   ]
  },
  {
   "cell_type": "markdown",
   "id": "a9beea6d-88ec-4cfb-bff1-e76d8ee8ae92",
   "metadata": {},
   "source": [
    "# using numpy"
   ]
  },
  {
   "cell_type": "code",
   "execution_count": 29,
   "id": "ffd4ed04-ba9a-45a1-9045-0b9f35a33c73",
   "metadata": {},
   "outputs": [
    {
     "data": {
      "text/plain": [
       "74455.81459209183"
      ]
     },
     "execution_count": 29,
     "metadata": {},
     "output_type": "execute_result"
    }
   ],
   "source": [
    "np.mean(visa_df['prevailing_wage'])"
   ]
  },
  {
   "cell_type": "code",
   "execution_count": 30,
   "id": "f6dd9bbf-b6b8-4811-a8e7-9ca6ceb924a2",
   "metadata": {},
   "outputs": [
    {
     "data": {
      "text/plain": [
       "70308.20999999999"
      ]
     },
     "execution_count": 30,
     "metadata": {},
     "output_type": "execute_result"
    }
   ],
   "source": [
    "np.median(visa_df['prevailing_wage'])"
   ]
  },
  {
   "cell_type": "markdown",
   "id": "0f66372c-9add-4c79-80eb-f856b8dd78f6",
   "metadata": {},
   "source": [
    "# standard deviation"
   ]
  },
  {
   "cell_type": "code",
   "execution_count": 31,
   "id": "fc9ddf2e-1776-45fe-9f1e-039542d0242a",
   "metadata": {},
   "outputs": [
    {
     "data": {
      "text/plain": [
       "52815.94232687357"
      ]
     },
     "execution_count": 31,
     "metadata": {},
     "output_type": "execute_result"
    }
   ],
   "source": [
    "visa_df['prevailing_wage'].std()"
   ]
  },
  {
   "cell_type": "code",
   "execution_count": 32,
   "id": "37fc4d01-35d1-4bad-8d86-956e079beb56",
   "metadata": {},
   "outputs": [
    {
     "data": {
      "text/plain": [
       "52815.94"
      ]
     },
     "execution_count": 32,
     "metadata": {},
     "output_type": "execute_result"
    }
   ],
   "source": [
    "std_wage=round(visa_df['prevailing_wage'].std(),2)\n",
    "std_wage"
   ]
  },
  {
   "cell_type": "code",
   "execution_count": 35,
   "id": "7f6f161e-378d-407a-8e24-ed0ac9738973",
   "metadata": {},
   "outputs": [
    {
     "name": "stdout",
     "output_type": "stream",
     "text": [
      "the no.of wage samples are: 25480\n",
      "the min  wage samples are: 2.1367\n",
      "the max wage samples are: 319210.27\n",
      "the average mean wage is: prevailing_wage    74455.81\n",
      "dtype: float64\n",
      "the average median  wage is: prevailing_wage    70308.21\n",
      "dtype: float64\n",
      "52815.94\n"
     ]
    }
   ],
   "source": [
    "count_wage=len(visa_df['prevailing_wage'])\n",
    "min_wage=min(visa_df['prevailing_wage'])\n",
    "max_wage=max(visa_df['prevailing_wage'])\n",
    "mean_wage=round(visa_df[['prevailing_wage']].mean(),2)\n",
    "median_wage=round(visa_df[['prevailing_wage']].median(),2)\n",
    "std_wage=round(visa_df['prevailing_wage'].std(),2)\n",
    "print('the no.of wage samples are:',count_wage)\n",
    "print('the min  wage samples are:',min_wage)\n",
    "print('the max wage samples are:',max_wage)\n",
    "print('the average mean wage is:',mean_wage)\n",
    "print('the average median  wage is:',median_wage)\n",
    "print(std_wage)"
   ]
  },
  {
   "cell_type": "code",
   "execution_count": null,
   "id": "4071fd5f-b6f3-4ece-8558-a6ab23b236e5",
   "metadata": {},
   "outputs": [],
   "source": [
    "#step_1:create empty list and keep all the values in alist\n",
    "#step_2:create a index list=['count','min'....]\n",
    "#step-3:create a cols list=['pwage']"
   ]
  },
  {
   "cell_type": "code",
   "execution_count": 36,
   "id": "cd13a1a1-3d8c-4728-bb63-460f161a58fc",
   "metadata": {},
   "outputs": [
    {
     "data": {
      "text/html": [
       "<div>\n",
       "<style scoped>\n",
       "    .dataframe tbody tr th:only-of-type {\n",
       "        vertical-align: middle;\n",
       "    }\n",
       "\n",
       "    .dataframe tbody tr th {\n",
       "        vertical-align: top;\n",
       "    }\n",
       "\n",
       "    .dataframe thead th {\n",
       "        text-align: right;\n",
       "    }\n",
       "</style>\n",
       "<table border=\"1\" class=\"dataframe\">\n",
       "  <thead>\n",
       "    <tr style=\"text-align: right;\">\n",
       "      <th></th>\n",
       "      <th>previalige_wage</th>\n",
       "    </tr>\n",
       "  </thead>\n",
       "  <tbody>\n",
       "    <tr>\n",
       "      <th>count</th>\n",
       "      <td>25480</td>\n",
       "    </tr>\n",
       "    <tr>\n",
       "      <th>min</th>\n",
       "      <td>2.1367</td>\n",
       "    </tr>\n",
       "    <tr>\n",
       "      <th>max</th>\n",
       "      <td>319210.27</td>\n",
       "    </tr>\n",
       "    <tr>\n",
       "      <th>mean</th>\n",
       "      <td>prevailing_wage    74455.81\n",
       "dtype: float64</td>\n",
       "    </tr>\n",
       "    <tr>\n",
       "      <th>median</th>\n",
       "      <td>prevailing_wage    70308.21\n",
       "dtype: float64</td>\n",
       "    </tr>\n",
       "    <tr>\n",
       "      <th>standard deviation</th>\n",
       "      <td>52815.94</td>\n",
       "    </tr>\n",
       "  </tbody>\n",
       "</table>\n",
       "</div>"
      ],
      "text/plain": [
       "                                               previalige_wage\n",
       "count                                                    25480\n",
       "min                                                     2.1367\n",
       "max                                                  319210.27\n",
       "mean                prevailing_wage    74455.81\n",
       "dtype: float64\n",
       "median              prevailing_wage    70308.21\n",
       "dtype: float64\n",
       "standard deviation                                    52815.94"
      ]
     },
     "execution_count": 36,
     "metadata": {},
     "output_type": "execute_result"
    }
   ],
   "source": [
    "values=[count_wage,min_wage,max_wage,mean_wage,median_wage,std_wage]\n",
    "index_list=['count','min','max','mean','median','standard deviation']\n",
    "cols_list=['previalige_wage']\n",
    "dff=pd.DataFrame(values,index=index_list,columns=cols_list)\n",
    "dff"
   ]
  },
  {
   "cell_type": "code",
   "execution_count": 37,
   "id": "91056fdf-9b00-4db2-b4e2-02f7e33026ea",
   "metadata": {},
   "outputs": [
    {
     "data": {
      "text/html": [
       "<div>\n",
       "<style scoped>\n",
       "    .dataframe tbody tr th:only-of-type {\n",
       "        vertical-align: middle;\n",
       "    }\n",
       "\n",
       "    .dataframe tbody tr th {\n",
       "        vertical-align: top;\n",
       "    }\n",
       "\n",
       "    .dataframe thead th {\n",
       "        text-align: right;\n",
       "    }\n",
       "</style>\n",
       "<table border=\"1\" class=\"dataframe\">\n",
       "  <thead>\n",
       "    <tr style=\"text-align: right;\">\n",
       "      <th></th>\n",
       "      <th>no_of_employees</th>\n",
       "      <th>yr_of_estab</th>\n",
       "      <th>prevailing_wage</th>\n",
       "    </tr>\n",
       "  </thead>\n",
       "  <tbody>\n",
       "    <tr>\n",
       "      <th>count</th>\n",
       "      <td>25480.000000</td>\n",
       "      <td>25480.000000</td>\n",
       "      <td>25480.000000</td>\n",
       "    </tr>\n",
       "    <tr>\n",
       "      <th>mean</th>\n",
       "      <td>5667.043210</td>\n",
       "      <td>1979.409929</td>\n",
       "      <td>74455.814592</td>\n",
       "    </tr>\n",
       "    <tr>\n",
       "      <th>std</th>\n",
       "      <td>22877.928848</td>\n",
       "      <td>42.366929</td>\n",
       "      <td>52815.942327</td>\n",
       "    </tr>\n",
       "    <tr>\n",
       "      <th>min</th>\n",
       "      <td>-26.000000</td>\n",
       "      <td>1800.000000</td>\n",
       "      <td>2.136700</td>\n",
       "    </tr>\n",
       "    <tr>\n",
       "      <th>25%</th>\n",
       "      <td>1022.000000</td>\n",
       "      <td>1976.000000</td>\n",
       "      <td>34015.480000</td>\n",
       "    </tr>\n",
       "    <tr>\n",
       "      <th>50%</th>\n",
       "      <td>2109.000000</td>\n",
       "      <td>1997.000000</td>\n",
       "      <td>70308.210000</td>\n",
       "    </tr>\n",
       "    <tr>\n",
       "      <th>75%</th>\n",
       "      <td>3504.000000</td>\n",
       "      <td>2005.000000</td>\n",
       "      <td>107735.512500</td>\n",
       "    </tr>\n",
       "    <tr>\n",
       "      <th>max</th>\n",
       "      <td>602069.000000</td>\n",
       "      <td>2016.000000</td>\n",
       "      <td>319210.270000</td>\n",
       "    </tr>\n",
       "  </tbody>\n",
       "</table>\n",
       "</div>"
      ],
      "text/plain": [
       "       no_of_employees   yr_of_estab  prevailing_wage\n",
       "count     25480.000000  25480.000000     25480.000000\n",
       "mean       5667.043210   1979.409929     74455.814592\n",
       "std       22877.928848     42.366929     52815.942327\n",
       "min         -26.000000   1800.000000         2.136700\n",
       "25%        1022.000000   1976.000000     34015.480000\n",
       "50%        2109.000000   1997.000000     70308.210000\n",
       "75%        3504.000000   2005.000000    107735.512500\n",
       "max      602069.000000   2016.000000    319210.270000"
      ]
     },
     "execution_count": 37,
     "metadata": {},
     "output_type": "execute_result"
    }
   ],
   "source": [
    "visa_df.describe()"
   ]
  },
  {
   "cell_type": "markdown",
   "id": "856bf97d-94a5-441c-ba0d-5c3e477c9750",
   "metadata": {},
   "source": [
    "# 25p-50p-75p"
   ]
  },
  {
   "cell_type": "markdown",
   "id": "8a183f81-4e7b-4a16-8a55-e92870aba60e",
   "metadata": {},
   "source": [
    "# percentile\n",
    "- in numpy we have percentile\n",
    "- the methosd is np.percentile()\n",
    "  - it takes 2 arguments\n",
    "  - a:array means data\n",
    "  - q:which percentile data you want,that value needed to provide\n",
    "  - if we want 25p value then q=25\n",
    "# quantile\n",
    "  - in numpy we have quantile method\n",
    "  - the method is np.quantile()\n",
    "   -  it also takes 2 arguments\n",
    "   - a:array means data\n",
    "  - q:which percentile data you want,that value needed to provide\n",
    "  - if we want 25 value then q=0.25\n",
    "  - if we want 50 value then q=0.50\n",
    " "
   ]
  },
  {
   "cell_type": "code",
   "execution_count": 45,
   "id": "12bd48a2-a4ee-4e96-83b8-5f6aa3834aee",
   "metadata": {},
   "outputs": [
    {
     "data": {
      "text/plain": [
       "70308.20999999999"
      ]
     },
     "execution_count": 45,
     "metadata": {},
     "output_type": "execute_result"
    }
   ],
   "source": [
    "np.percentile(visa_df['prevailing_wage'],50)"
   ]
  },
  {
   "cell_type": "code",
   "execution_count": 47,
   "id": "3490780b-d3b0-4384-b355-5561c614ec24",
   "metadata": {},
   "outputs": [
    {
     "data": {
      "text/plain": [
       "70308.20999999999"
      ]
     },
     "execution_count": 47,
     "metadata": {},
     "output_type": "execute_result"
    }
   ],
   "source": [
    "np.quantile(visa_df['prevailing_wage'],0.50)"
   ]
  },
  {
   "cell_type": "code",
   "execution_count": 48,
   "id": "b1677087-b51b-4cc8-af7b-bbf1d8d7d916",
   "metadata": {},
   "outputs": [
    {
     "name": "stdout",
     "output_type": "stream",
     "text": [
      "25p value is: 34015.48\n",
      "50p value is: 70308.21\n",
      "75p value is: 107735.51\n"
     ]
    }
   ],
   "source": [
    "wage_25p=round(np.percentile(visa_df['prevailing_wage'],25),2)\n",
    "wage_50p=round(np.percentile(visa_df['prevailing_wage'],50),2)\n",
    "wage_75p=round(np.percentile(visa_df['prevailing_wage'],75),2)\n",
    "print('25p value is:',wage_25p)\n",
    "print('50p value is:',wage_50p)\n",
    "print('75p value is:',wage_75p)"
   ]
  },
  {
   "cell_type": "code",
   "execution_count": 50,
   "id": "72fa5093-4069-46c1-b04e-c4d02ad908de",
   "metadata": {},
   "outputs": [
    {
     "ename": "ValueError",
     "evalue": "Shape of passed values is (3, 1), indices imply (3, 3)",
     "output_type": "error",
     "traceback": [
      "\u001b[1;31m---------------------------------------------------------------------------\u001b[0m",
      "\u001b[1;31mValueError\u001b[0m                                Traceback (most recent call last)",
      "Cell \u001b[1;32mIn[50], line 4\u001b[0m\n\u001b[0;32m      2\u001b[0m ix\u001b[38;5;241m=\u001b[39m[\u001b[38;5;241m1\u001b[39m,\u001b[38;5;241m2\u001b[39m,\u001b[38;5;241m3\u001b[39m]\n\u001b[0;32m      3\u001b[0m cols\u001b[38;5;241m=\u001b[39m[\u001b[38;5;124m'\u001b[39m\u001b[38;5;124m25p\u001b[39m\u001b[38;5;124m'\u001b[39m,\u001b[38;5;124m'\u001b[39m\u001b[38;5;124m50p\u001b[39m\u001b[38;5;124m'\u001b[39m,\u001b[38;5;124m'\u001b[39m\u001b[38;5;124m75p\u001b[39m\u001b[38;5;124m'\u001b[39m]\n\u001b[1;32m----> 4\u001b[0m df1\u001b[38;5;241m=\u001b[39mpd\u001b[38;5;241m.\u001b[39mDataFrame(values,index\u001b[38;5;241m=\u001b[39mix,columns\u001b[38;5;241m=\u001b[39mcols)\n\u001b[0;32m      5\u001b[0m df1\n",
      "File \u001b[1;32m~\\anaconda3\\Lib\\site-packages\\pandas\\core\\frame.py:822\u001b[0m, in \u001b[0;36mDataFrame.__init__\u001b[1;34m(self, data, index, columns, dtype, copy)\u001b[0m\n\u001b[0;32m    814\u001b[0m         mgr \u001b[38;5;241m=\u001b[39m arrays_to_mgr(\n\u001b[0;32m    815\u001b[0m             arrays,\n\u001b[0;32m    816\u001b[0m             columns,\n\u001b[1;32m   (...)\u001b[0m\n\u001b[0;32m    819\u001b[0m             typ\u001b[38;5;241m=\u001b[39mmanager,\n\u001b[0;32m    820\u001b[0m         )\n\u001b[0;32m    821\u001b[0m     \u001b[38;5;28;01melse\u001b[39;00m:\n\u001b[1;32m--> 822\u001b[0m         mgr \u001b[38;5;241m=\u001b[39m ndarray_to_mgr(\n\u001b[0;32m    823\u001b[0m             data,\n\u001b[0;32m    824\u001b[0m             index,\n\u001b[0;32m    825\u001b[0m             columns,\n\u001b[0;32m    826\u001b[0m             dtype\u001b[38;5;241m=\u001b[39mdtype,\n\u001b[0;32m    827\u001b[0m             copy\u001b[38;5;241m=\u001b[39mcopy,\n\u001b[0;32m    828\u001b[0m             typ\u001b[38;5;241m=\u001b[39mmanager,\n\u001b[0;32m    829\u001b[0m         )\n\u001b[0;32m    830\u001b[0m \u001b[38;5;28;01melse\u001b[39;00m:\n\u001b[0;32m    831\u001b[0m     mgr \u001b[38;5;241m=\u001b[39m dict_to_mgr(\n\u001b[0;32m    832\u001b[0m         {},\n\u001b[0;32m    833\u001b[0m         index,\n\u001b[1;32m   (...)\u001b[0m\n\u001b[0;32m    836\u001b[0m         typ\u001b[38;5;241m=\u001b[39mmanager,\n\u001b[0;32m    837\u001b[0m     )\n",
      "File \u001b[1;32m~\\anaconda3\\Lib\\site-packages\\pandas\\core\\internals\\construction.py:336\u001b[0m, in \u001b[0;36mndarray_to_mgr\u001b[1;34m(values, index, columns, dtype, copy, typ)\u001b[0m\n\u001b[0;32m    331\u001b[0m \u001b[38;5;66;03m# _prep_ndarraylike ensures that values.ndim == 2 at this point\u001b[39;00m\n\u001b[0;32m    332\u001b[0m index, columns \u001b[38;5;241m=\u001b[39m _get_axes(\n\u001b[0;32m    333\u001b[0m     values\u001b[38;5;241m.\u001b[39mshape[\u001b[38;5;241m0\u001b[39m], values\u001b[38;5;241m.\u001b[39mshape[\u001b[38;5;241m1\u001b[39m], index\u001b[38;5;241m=\u001b[39mindex, columns\u001b[38;5;241m=\u001b[39mcolumns\n\u001b[0;32m    334\u001b[0m )\n\u001b[1;32m--> 336\u001b[0m _check_values_indices_shape_match(values, index, columns)\n\u001b[0;32m    338\u001b[0m \u001b[38;5;28;01mif\u001b[39;00m typ \u001b[38;5;241m==\u001b[39m \u001b[38;5;124m\"\u001b[39m\u001b[38;5;124marray\u001b[39m\u001b[38;5;124m\"\u001b[39m:\n\u001b[0;32m    339\u001b[0m     \u001b[38;5;28;01mif\u001b[39;00m \u001b[38;5;28missubclass\u001b[39m(values\u001b[38;5;241m.\u001b[39mdtype\u001b[38;5;241m.\u001b[39mtype, \u001b[38;5;28mstr\u001b[39m):\n",
      "File \u001b[1;32m~\\anaconda3\\Lib\\site-packages\\pandas\\core\\internals\\construction.py:420\u001b[0m, in \u001b[0;36m_check_values_indices_shape_match\u001b[1;34m(values, index, columns)\u001b[0m\n\u001b[0;32m    418\u001b[0m passed \u001b[38;5;241m=\u001b[39m values\u001b[38;5;241m.\u001b[39mshape\n\u001b[0;32m    419\u001b[0m implied \u001b[38;5;241m=\u001b[39m (\u001b[38;5;28mlen\u001b[39m(index), \u001b[38;5;28mlen\u001b[39m(columns))\n\u001b[1;32m--> 420\u001b[0m \u001b[38;5;28;01mraise\u001b[39;00m \u001b[38;5;167;01mValueError\u001b[39;00m(\u001b[38;5;124mf\u001b[39m\u001b[38;5;124m\"\u001b[39m\u001b[38;5;124mShape of passed values is \u001b[39m\u001b[38;5;132;01m{\u001b[39;00mpassed\u001b[38;5;132;01m}\u001b[39;00m\u001b[38;5;124m, indices imply \u001b[39m\u001b[38;5;132;01m{\u001b[39;00mimplied\u001b[38;5;132;01m}\u001b[39;00m\u001b[38;5;124m\"\u001b[39m)\n",
      "\u001b[1;31mValueError\u001b[0m: Shape of passed values is (3, 1), indices imply (3, 3)"
     ]
    }
   ],
   "source": [
    "values=[wage_25p,wage_50p,wage_75p]\n",
    "ix=[1,2,3]\n",
    "cols=['25p','50p','75p']\n",
    "df1=pd.DataFrame(values,index=ix,columns=cols)\n",
    "df1"
   ]
  },
  {
   "cell_type": "code",
   "execution_count": null,
   "id": "336337ca-c1cf-406c-b837-334e3560e526",
   "metadata": {},
   "outputs": [],
   "source": []
  }
 ],
 "metadata": {
  "kernelspec": {
   "display_name": "Python 3 (ipykernel)",
   "language": "python",
   "name": "python3"
  },
  "language_info": {
   "codemirror_mode": {
    "name": "ipython",
    "version": 3
   },
   "file_extension": ".py",
   "mimetype": "text/x-python",
   "name": "python",
   "nbconvert_exporter": "python",
   "pygments_lexer": "ipython3",
   "version": "3.11.7"
  }
 },
 "nbformat": 4,
 "nbformat_minor": 5
}
